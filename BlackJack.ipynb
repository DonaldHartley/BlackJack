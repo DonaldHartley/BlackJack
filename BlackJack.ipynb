{
 "cells": [
  {
   "cell_type": "code",
   "execution_count": 1,
   "metadata": {},
   "outputs": [],
   "source": [
    "class Deck:"
    "def __init__(self, deck_list=[('A-D',11),('2-D',2),('3-D',3),('4-D',4),\"
    "                              ('5-D',5),('6-D',6),('7-D',7),('8-D',8),\"
    "                              ('9-D',9),('10-D',10),('J-D',10),('Q-D',10),\"
    "                              ('K-D',10),('A-C',11),('2-C',2),('3-C',3),\"
    "                              ('4-C',4),('5-C',5),('6-C',6),('7-C',7),\"
    "                              ('8-C',8),('9-C',9),('10-C',10),('J-C',10),\"
    "                              ('Q-C',10),('K-C',10),('A-H',11),('2-H',2),\"
    "                              ('3-H',3),('4-H',4),('5-H',5),('6-H',6),\"
    "                              ('7-H',7),('8-H',8),('9-H',9),('10-H',10),\"
    "                              ('J-H',10),('Q-H',10),('K-H',10),('A-S',11),\"
    "                              ('2-S',2),('3-S',3),('4-S',4),('5-S',5),\"
    "                              ('6-S',6),('7-S',7),('8-S',8),('9-S',9),\"
    "                              ('10-S',10),('J-S',10),('Q-S',10),('K-S',10)]):"
    "    self.deck_list = deck_list"
    "    "
    "def drawCard(self):"
    "    from random import randint"
    "    return self.deck_list.pop(randint(0,len(self.deck_list)-1))"
   ]
  }
 ],
 "metadata": {
  "kernelspec": {
   "display_name": "Python 2",
   "language": "python",
   "name": "python2"
  },
  "language_info": {
   "codemirror_mode": {
    "name": "ipython",
    "version": 2
   },
   "file_extension": ".py",
   "mimetype": "text/x-python",
   "name": "python",
   "nbconvert_exporter": "python",
   "pygments_lexer": "ipython2",
   "version": "2.7.6"
  }
 },
 "nbformat": 4,
 "nbformat_minor": 0
}
